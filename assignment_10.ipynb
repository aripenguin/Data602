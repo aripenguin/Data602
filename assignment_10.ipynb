{
  "nbformat": 4,
  "nbformat_minor": 0,
  "metadata": {
    "colab": {
      "provenance": [],
      "include_colab_link": true
    },
    "kernelspec": {
      "name": "python3",
      "display_name": "Python 3"
    },
    "language_info": {
      "name": "python"
    }
  },
  "cells": [
    {
      "cell_type": "markdown",
      "metadata": {
        "id": "view-in-github",
        "colab_type": "text"
      },
      "source": [
        "<a href=\"https://colab.research.google.com/github/aripenguin/Data602/blob/main/assignment_10.ipynb\" target=\"_parent\"><img src=\"https://colab.research.google.com/assets/colab-badge.svg\" alt=\"Open In Colab\"/></a>"
      ]
    },
    {
      "cell_type": "markdown",
      "source": [
        "# **Assignment 10**"
      ],
      "metadata": {
        "id": "xqXbEBZtB8-u"
      }
    },
    {
      "cell_type": "code",
      "source": [
        "# core\n",
        "import matplotlib.pyplot as plt\n",
        "import numpy as np\n",
        "import pandas as pd\n",
        "\n",
        "# ml\n",
        "from sklearn import datasets as ds\n",
        "from sklearn import linear_model as lm\n",
        "from sklearn.neighbors import KNeighborsClassifier as KNN\n",
        "from sklearn.model_selection import train_test_split as tts\n",
        "\n",
        "#plotly or other graphing library"
      ],
      "metadata": {
        "id": "Iqswq2_ak3e-"
      },
      "execution_count": 4,
      "outputs": []
    },
    {
      "cell_type": "code",
      "source": [
        "# Load datasets here once and assign to variables iris and boston\n",
        "\n",
        "iris = ds.load_iris()\n",
        "#boston = ignoring boston"
      ],
      "metadata": {
        "id": "92pRcki-k3kH"
      },
      "execution_count": 11,
      "outputs": []
    },
    {
      "cell_type": "markdown",
      "source": [
        "**Q1**\n",
        "\n",
        "**Data set: Iris**\n",
        "\n",
        "* Return the first 5 rows of the data including the feature names as column headings in a DataFrame and a\n",
        "separate Python list containing target names"
      ],
      "metadata": {
        "id": "lA9exQg2lFEn"
      }
    },
    {
      "cell_type": "code",
      "source": [
        "print(\"The feature names of the iris dataset are: \", iris.feature_names)\n",
        "\n",
        "#if I convert the dataset into a pandas dataframe, I can easily print out the first part of Q1\n",
        "df_iris = pd.DataFrame(data=iris.data,\n",
        "                  columns=iris.feature_names)\n",
        "print(df_iris.head())\n",
        "\n",
        "#The separate Python list containing target names\n",
        "print(iris.target_names)\n"
      ],
      "metadata": {
        "id": "1kcEFauAlAxY",
        "colab": {
          "base_uri": "https://localhost:8080/"
        },
        "outputId": "ab92f678-df3b-426a-c491-07f079324db4"
      },
      "execution_count": 21,
      "outputs": [
        {
          "output_type": "stream",
          "name": "stdout",
          "text": [
            "The feature names of the iris dataset are:  ['sepal length (cm)', 'sepal width (cm)', 'petal length (cm)', 'petal width (cm)']\n",
            "   sepal length (cm)  sepal width (cm)  petal length (cm)  petal width (cm)\n",
            "0                5.1               3.5                1.4               0.2\n",
            "1                4.9               3.0                1.4               0.2\n",
            "2                4.7               3.2                1.3               0.2\n",
            "3                4.6               3.1                1.5               0.2\n",
            "4                5.0               3.6                1.4               0.2\n",
            "['setosa' 'versicolor' 'virginica']\n"
          ]
        }
      ]
    },
    {
      "cell_type": "markdown",
      "source": [
        "**Q2**\n",
        "\n",
        "**Data set: Iris**\n",
        "\n",
        "* Fit the Iris dataset into a kNN model with neighbors=5 and predict the category of observations passed in\n",
        "argument new_observations. Return back the target names of each prediction (and not their encoded values,\n",
        " i.e. return setosa instead of 0)."
      ],
      "metadata": {
        "id": "o2GEIhqzlT-i"
      }
    },
    {
      "cell_type": "code",
      "source": [
        "#add a new dataframe column for the the target names not numbers\n",
        "df_iris['target'] = iris.target\n",
        "print(df_iris.head())\n",
        "c = 0\n",
        "for t in df_iris['target']:\n",
        "    if t == 0:\n",
        "      df_iris['target'][c] = 'setosa'\n",
        "    elif t == 1:\n",
        "      df_iris['target'][c] = 'versicolor'\n",
        "    else:\n",
        "      df_iris['target'][c] = 'virginica'\n",
        "    c+=1\n",
        "#to see that its worked\n",
        "print(df_iris['target'])\n",
        "\n",
        "#make our X and y\n",
        "X = df_iris.iloc[:, :-1]#all the feature data, no target\n",
        "y = df_iris.iloc[:, -1]#only target data, could have done df_iris['target'] also\n",
        "\n",
        "knn = KNN(n_neighbors = 5)\n",
        "knn.fit(X, y)\n",
        "new_observations = knn.predict(X)\n",
        "print(new_observations)"
      ],
      "metadata": {
        "id": "wyqbRKh5lAzg",
        "colab": {
          "base_uri": "https://localhost:8080/"
        },
        "outputId": "b7cdac4e-7d81-45f8-dd42-16e97ffb8c08"
      },
      "execution_count": 48,
      "outputs": [
        {
          "output_type": "stream",
          "name": "stdout",
          "text": [
            "   sepal length (cm)  sepal width (cm)  petal length (cm)  petal width (cm)  \\\n",
            "0                5.1               3.5                1.4               0.2   \n",
            "1                4.9               3.0                1.4               0.2   \n",
            "2                4.7               3.2                1.3               0.2   \n",
            "3                4.6               3.1                1.5               0.2   \n",
            "4                5.0               3.6                1.4               0.2   \n",
            "\n",
            "   target  \n",
            "0       0  \n",
            "1       0  \n",
            "2       0  \n",
            "3       0  \n",
            "4       0  \n",
            "0         setosa\n",
            "1         setosa\n",
            "2         setosa\n",
            "3         setosa\n",
            "4         setosa\n",
            "         ...    \n",
            "145    virginica\n",
            "146    virginica\n",
            "147    virginica\n",
            "148    virginica\n",
            "149    virginica\n",
            "Name: target, Length: 150, dtype: object\n",
            "['setosa' 'setosa' 'setosa' 'setosa' 'setosa' 'setosa' 'setosa' 'setosa'\n",
            " 'setosa' 'setosa' 'setosa' 'setosa' 'setosa' 'setosa' 'setosa' 'setosa'\n",
            " 'setosa' 'setosa' 'setosa' 'setosa' 'setosa' 'setosa' 'setosa' 'setosa'\n",
            " 'setosa' 'setosa' 'setosa' 'setosa' 'setosa' 'setosa' 'setosa' 'setosa'\n",
            " 'setosa' 'setosa' 'setosa' 'setosa' 'setosa' 'setosa' 'setosa' 'setosa'\n",
            " 'setosa' 'setosa' 'setosa' 'setosa' 'setosa' 'setosa' 'setosa' 'setosa'\n",
            " 'setosa' 'setosa' 'versicolor' 'versicolor' 'versicolor' 'versicolor'\n",
            " 'versicolor' 'versicolor' 'versicolor' 'versicolor' 'versicolor'\n",
            " 'versicolor' 'versicolor' 'versicolor' 'versicolor' 'versicolor'\n",
            " 'versicolor' 'versicolor' 'versicolor' 'versicolor' 'versicolor'\n",
            " 'versicolor' 'virginica' 'versicolor' 'virginica' 'versicolor'\n",
            " 'versicolor' 'versicolor' 'versicolor' 'versicolor' 'versicolor'\n",
            " 'versicolor' 'versicolor' 'versicolor' 'versicolor' 'virginica'\n",
            " 'versicolor' 'versicolor' 'versicolor' 'versicolor' 'versicolor'\n",
            " 'versicolor' 'versicolor' 'versicolor' 'versicolor' 'versicolor'\n",
            " 'versicolor' 'versicolor' 'versicolor' 'versicolor' 'versicolor'\n",
            " 'versicolor' 'virginica' 'virginica' 'virginica' 'virginica' 'virginica'\n",
            " 'virginica' 'versicolor' 'virginica' 'virginica' 'virginica' 'virginica'\n",
            " 'virginica' 'virginica' 'virginica' 'virginica' 'virginica' 'virginica'\n",
            " 'virginica' 'virginica' 'versicolor' 'virginica' 'virginica' 'virginica'\n",
            " 'virginica' 'virginica' 'virginica' 'virginica' 'virginica' 'virginica'\n",
            " 'virginica' 'virginica' 'virginica' 'virginica' 'virginica' 'virginica'\n",
            " 'virginica' 'virginica' 'virginica' 'virginica' 'virginica' 'virginica'\n",
            " 'virginica' 'virginica' 'virginica' 'virginica' 'virginica' 'virginica'\n",
            " 'virginica' 'virginica' 'virginica']\n"
          ]
        },
        {
          "output_type": "stream",
          "name": "stderr",
          "text": [
            "<ipython-input-48-ce22ad0cf737>:7: SettingWithCopyWarning: \n",
            "A value is trying to be set on a copy of a slice from a DataFrame\n",
            "\n",
            "See the caveats in the documentation: https://pandas.pydata.org/pandas-docs/stable/user_guide/indexing.html#returning-a-view-versus-a-copy\n",
            "  df_iris['target'][c] = 'setosa'\n"
          ]
        }
      ]
    },
    {
      "cell_type": "markdown",
      "source": [
        "**Q3** 15 pts\n",
        "\n",
        "**Data set: Iris**\n",
        "\n",
        "* Split the Iris dataset into a train / test model with the split ratio between the two established by the function parameter split.\n",
        "\n",
        "* Fit KNN with the training data with number of neighbors equal to the function parameter neighbors\n",
        "\n",
        "* Generate and return back an accuracy score using the test data that was split out"
      ],
      "metadata": {
        "id": "aVMa16PflnBv"
      }
    },
    {
      "cell_type": "code",
      "source": [
        "X_train, X_test, y_train, y_test = tts(X, y, test_size = 0.3, random_state = 0, shuffle = True)\n",
        "\n",
        "knn.fit(X_train, y_train)\n",
        "\n",
        "knn.score(X_test, y_test)"
      ],
      "metadata": {
        "id": "5VIRae0xlA20",
        "colab": {
          "base_uri": "https://localhost:8080/"
        },
        "outputId": "d60d4631-b2bb-4f0c-f373-e164eb43b976"
      },
      "execution_count": 50,
      "outputs": [
        {
          "output_type": "execute_result",
          "data": {
            "text/plain": [
              "0.9777777777777777"
            ]
          },
          "metadata": {},
          "execution_count": 50
        }
      ]
    },
    {
      "cell_type": "markdown",
      "source": [
        "**Q4**\n",
        "\n",
        "**Data set: Iris**\n",
        "\n",
        "* Generate an overfitting / underfitting curve of kNN each of the testing and training accuracy performance scores series for a range of neighbor (k) values from 1 to 30 and plot the curves (number of neighbors is x-axis, performance score is y-axis on the chart)."
      ],
      "metadata": {
        "id": "GupwxBDVl8n2"
      }
    },
    {
      "cell_type": "code",
      "source": [
        "train_accuracies = {}\n",
        "test_accuracies = {}\n",
        "neighbors = np.arange(1,30)\n",
        "\n",
        "for neighbor in neighbors:\n",
        "  knn = KNN(n_neighbors = neighbor)\n",
        "  knn.fit(X_train, y_train)\n",
        "  train_accuracies[neighbor] = knn.score(X_train, y_train)\n",
        "  test_accuracies[neighbor] = knn.score(X_test, y_test)\n",
        "\n",
        "#Plot the curves\n",
        "plt.title(\"KNN: Varying Number of Neighbors\")\n",
        "plt.plot(neighbors, train_accuracies.values(), label=\"Training Accuracy\")\n",
        "plt.plot(neighbors, test_accuracies.values(), label=\"Testing Accuracy\")\n",
        "plt.legend()\n",
        "plt.xlabel(\"Number of Neighbors\")\n",
        "plt.ylabel(\"Accuracy\")\n",
        "plt.show()\n"
      ],
      "metadata": {
        "id": "M-6Ig8_QlA6J",
        "colab": {
          "base_uri": "https://localhost:8080/",
          "height": 472
        },
        "outputId": "325ccbe9-e68c-4607-ae2b-829b4dfabbda"
      },
      "execution_count": 52,
      "outputs": [
        {
          "output_type": "display_data",
          "data": {
            "text/plain": [
              "<Figure size 640x480 with 1 Axes>"
            ],
            "image/png": "[encoded data removed]"
          },
          "metadata": {}
        }
      ]
    }
  ]
}